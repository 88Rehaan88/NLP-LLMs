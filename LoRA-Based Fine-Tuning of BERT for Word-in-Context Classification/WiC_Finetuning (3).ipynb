{
 "cells": [
  {
   "cell_type": "markdown",
   "metadata": {
    "id": "K7aMjbnO4MKx"
   },
   "source": [
    "# Word in Context (WiC) Classification Assignment"
   ]
  },
  {
   "cell_type": "markdown",
   "metadata": {
    "id": "VyuSXTwldWj7"
   },
   "source": [
    "**Please pay attention to these notes:**\n",
    "<br><br>\n",
    "\n",
    "- The coding parts you need to implement are denoted by:\n",
    "```\n",
    "    #################################\n",
    "    ## PUT YOU IMPLEMENTATION HERE ##\n",
    "    #################################\n",
    "```\n",
    "\n",
    "- You must run this notebook on Google Colab platform, it depends on Google Colab VM for some of the depencecies. <b><font color='red'> You must also use the GPU runtime for faster training of the model. </font></b>\n",
    "- <b><font color='red'>When you are ready to submit, please follow the instructions at the end of this notebook.</font></b>\n",
    "\n",
    "<br>\n",
    "\n",
    "--------------------------------------------------"
   ]
  },
  {
   "cell_type": "markdown",
   "metadata": {
    "id": "WZpsLISmd4e_"
   },
   "source": [
    "In this assignment, you will implement a classifier that determines whether a word has the same meaning in two different sentences. You'll be using the WiC (Word in Context) dataset and BERT embeddings to solve this task.\n",
    "\n",
    "First lets install the requirements:"
   ]
  },
  {
   "cell_type": "code",
   "execution_count": null,
   "metadata": {
    "colab": {
     "base_uri": "https://localhost:8080/"
    },
    "id": "MJbQ6SHZ499b",
    "outputId": "93b109b4-08c4-4726-b33f-d8981fb8ab55"
   },
   "outputs": [
    {
     "name": "stdout",
     "output_type": "stream",
     "text": [
      "Done!\n"
     ]
    }
   ],
   "source": [
    "#importing clear_output() function from notebook utilities\n",
    "from IPython.display import clear_output\n",
    "\n",
    "!pip install datasets\n",
    "\n",
    "clear_output()\n",
    "print('Done!')"
   ]
  },
  {
   "cell_type": "markdown",
   "metadata": {
    "id": "UJTU-H_w4Nzy"
   },
   "source": [
    "## Dataset Description\n",
    "\n",
    "The WiC dataset provides pairs of sentences where a target word appears in both sentences. Your task is to determine whether the word is used with the same sense (meaning) in both sentences. For example:\n",
    "\n",
    "```\n",
    "Sentence 1: \"The house has a nice room.\"\n",
    "Sentence 2: \"There's not enough room for everyone.\"\n",
    "Target word: \"room\"\n",
    "Label: 0 (different meaning)\n",
    "```\n",
    "\n",
    "Each example in the dataset contains:\n",
    "- `sentence1`: First sentence\n",
    "- `sentence2`: Second sentence\n",
    "- `word`: The target word\n",
    "- `start1`  , `end1`: Character positions of the target word in sentence1\n",
    "- `start2`  , `end2`: Character positions of the target word in sentence2\n",
    "- `label`: 1 if the word has the same meaning in both sentences, 0 otherwise\n"
   ]
  },
  {
   "cell_type": "code",
   "execution_count": null,
   "metadata": {
    "colab": {
     "base_uri": "https://localhost:8080/"
    },
    "id": "DBVXQBC94J3_",
    "outputId": "a6ab03b1-a6e0-428d-980d-8a86e610c1d9"
   },
   "outputs": [
    {
     "name": "stdout",
     "output_type": "stream",
     "text": [
      "The dataset blueprint is: \n",
      "DatasetDict({\n",
      "    train: Dataset({\n",
      "        features: ['word', 'sentence1', 'sentence2', 'start1', 'start2', 'end1', 'end2', 'idx', 'label'],\n",
      "        num_rows: 5428\n",
      "    })\n",
      "    validation: Dataset({\n",
      "        features: ['word', 'sentence1', 'sentence2', 'start1', 'start2', 'end1', 'end2', 'idx', 'label'],\n",
      "        num_rows: 638\n",
      "    })\n",
      "    test: Dataset({\n",
      "        features: ['word', 'sentence1', 'sentence2', 'start1', 'start2', 'end1', 'end2', 'idx', 'label'],\n",
      "        num_rows: 1400\n",
      "    })\n",
      "})\n",
      "============\n",
      "The first example of the train partition is: \n",
      "{'end1': 14,\n",
      " 'end2': 13,\n",
      " 'idx': 0,\n",
      " 'label': 0,\n",
      " 'sentence1': 'You must carry your camping gear .',\n",
      " 'sentence2': 'Sound carries well over water .',\n",
      " 'start1': 9,\n",
      " 'start2': 6,\n",
      " 'word': 'carry'}\n"
     ]
    }
   ],
   "source": [
    "# ==================================================================================\n",
    "#                    COPY THIS CELL INTO THE ASSIGNMENT NOTEBOOK                   #\n",
    "# ==================================================================================\n",
    "\n",
    "from IPython.display import clear_output\n",
    "\n",
    "\n",
    "# we download the files of the full dataset from here\n",
    "!pip install gdown\n",
    "!gdown --folder https://drive.google.com/drive/folders/1ZFz8-p40Ywoe8oBHb6H8ihO-boQqiq6_ -O /content/\n",
    "\n",
    "!pip install datasets\n",
    "\n",
    "# Lets take a look!\n",
    "\n",
    "from datasets import load_dataset\n",
    "from pprint import pprint\n",
    "\n",
    "# Load dataset\n",
    "\n",
    "####### WARNING! The Hugging Face version of the dataset does not include the test labels.\n",
    "####### However, you can obtain the full dataset by running the following script.\n",
    "####### Be sure to execute the previous cell first.\n",
    "\n",
    "dataset = load_dataset('./WiC/wic_loader.py',\n",
    "                        data_dir='./WiC',\n",
    "                        trust_remote_code=True)\n",
    "\n",
    "\n",
    "\n",
    "\n",
    "# Clear the output\n",
    "clear_output()\n",
    "\n",
    "print('The dataset blueprint is: ')\n",
    "print(dataset)\n",
    "print(\"============\")\n",
    "print('The first example of the train partition is: ')\n",
    "pprint(dataset['train'][0])"
   ]
  },
  {
   "cell_type": "markdown",
   "metadata": {
    "id": "-yziQFgwk9Oe"
   },
   "source": [
    "## How to approach the problem?"
   ]
  },
  {
   "cell_type": "markdown",
   "metadata": {
    "id": "wKs45-o0laeN"
   },
   "source": [
    "To address this problem, we need a vector representation (embedding) of the target word in each of the two sentences. To achieve this, we first pass each sentence through the BERT model separately to obtain token embeddings. Next, we identify the sub-tokens corresponding to the target word in each sentence and compute their average embedding to represent the target word. Finally, we concatenate the two resulting vectors and feed them into a classifier, which determines whether the words share the same meaning based on these embeddings."
   ]
  },
  {
   "cell_type": "markdown",
   "metadata": {
    "id": "ZAuwVW-OJnfo"
   },
   "source": [
    "In order to identify the sub-tokens corresponding to the target word, you should implement the `find_target_token_indices` function (similar to what we had in the class), which takes three inputs:\n",
    "\n",
    "- `start_idx`: The starting character index of the target word.\n",
    "- `end_idx`: The ending character index of the target word.\n",
    "- `offset_mapping`: A tensor containing character spans for each token in a tokenized sentence.\n",
    "\n",
    "The function should return a binary mask indicating which tokens correspond to the target word. To achieve this, iterate through offset_mapping and check if each token’s character span overlaps with the target word’s span (start_idx to end_idx). If there is an overlap, mark that token’s index in the mask as 1; otherwise, keep it 0. Finally, return the binary mask.\n",
    "\n",
    "\n",
    "Here is an example usage:\n",
    "\n",
    "```python\n",
    "    tokenizer = AutoTokenizer.from_pretrained(\"bert-base-uncased\")\n",
    "    \n",
    "    sentence = \"working with tokenizer is fun!.\"\n",
    "    target_word = \"tokenizer\"\n",
    "    start_idx = sentence.index(target_word)  # = 13\n",
    "    end_idx = start_idx + len(target_word) # = 22\n",
    "    \n",
    "    encoding = tokenizer(sentence, return_offsets_mapping=True, return_tensors=\"pt\")\n",
    "    offset_mapping = encoding[\"offset_mapping\"][0] # get the first item to remove the tokenizer's batching\n",
    "    input_ids = encoding[\"input_ids\"][0] # get the first item to remove the tokenizer's batching\n",
    "\n",
    "    mask = find_target_token_indices(start_idx, end_idx, offset_mapping)\n",
    "\n",
    "    print((tokenizer.convert_ids_to_tokens(input_ids)))\n",
    "   # >>> ['[CLS]', 'working', 'with', 'token', '##izer', 'is', 'fun', '!', '[SEP]']\n",
    "\n",
    "    print(mask)\n",
    "    # >>> tensor([0., 0., 0., 1., 1., 0., 0., 0., 0.])\n",
    "```\n",
    "\n"
   ]
  },
  {
   "cell_type": "code",
   "execution_count": null,
   "metadata": {
    "id": "VutM2H7FDktO"
   },
   "outputs": [],
   "source": [
    "import torch\n",
    "\n",
    "def find_target_token_indices(start_idx, end_idx, offset_mapping):\n",
    "    \"\"\"\n",
    "    Find token indices for a specific target word using offset mapping.\n",
    "\n",
    "    Args:\n",
    "        start_idx (int): Character start index of target word\n",
    "        end_idx (int): Character end index of target word\n",
    "        offset_mapping (torch.Tensor): Offset mapping from tokenization of the sentence\n",
    "\n",
    "    Returns:\n",
    "        torch.Tensor: Binary mask for target word tokens\n",
    "    \"\"\"\n",
    "    # Initialize a mask of zeros with the same length as offset_mapping\n",
    "    mask = torch.zeros(offset_mapping.shape[0], dtype=torch.float)\n",
    "\n",
    "    # Iterate through token offsets to find matching tokens\n",
    "    for i in range(offset_mapping.shape[0]):\n",
    "        token_start, token_end = offset_mapping[i].tolist()  # Convert tensor to list for indexing\n",
    "\n",
    "        # Check which tokens overlap with the target word\n",
    "        if (token_start < end_idx) and (token_end > start_idx):\n",
    "            mask[i] = 1.0\n",
    "    return mask"
   ]
  },
  {
   "cell_type": "markdown",
   "metadata": {
    "id": "KBsg6wMwHOiM"
   },
   "source": [
    "Test you implementation!\n",
    "\n",
    "Note: In this test, we remove the tokenizer's batching behavior when extracting `input_ids` and `offset_mapping` by selecting the first item (index `0`). Otherwise, the output would have two dimensions, with the first dimension that represents the batch always having a single item (length of 1), which is redundant since we only process a single sentence at a time (i.e., a batch size of one)."
   ]
  },
  {
   "cell_type": "code",
   "execution_count": null,
   "metadata": {
    "colab": {
     "base_uri": "https://localhost:8080/",
     "height": 266,
     "referenced_widgets": [
      "0e67c11c88114305a92e751915f0874a",
      "d5080e58d85e48f990418346ab682647",
      "37d4a9723c1e4082806644019606edf1",
      "1a90f388cc204baa9b1d70744d866251",
      "2582199e81c34d0bb9b01e67acd9a227",
      "2bc9033d0c1e466f98f671e1c5241206",
      "3240f2633b664076801a7b4328c5aab9",
      "ede26fe1552a4433913e75e50acb7844",
      "b1c323fd64ae4744ab5743c5c473f259",
      "b60c939fa05d42c4af016cf596f1e80b",
      "68421f01758644d98f4025ae3a20a532",
      "7612951613684af885c00485caa4510f",
      "be29a237a2d146adad658ca1bd347dd8",
      "ae39644865bc4a6288c6876c8ea77ffb",
      "2a8f16110e3d48199e58857d5cdcff61",
      "41d33412c681498dbca82de24b21655c",
      "060c905f08004cc0b6b41459d68b1c32",
      "c214ccb62cb844faa7463dc7aa7311b3",
      "13c7cb6e9ddf42c296aa9adfdc308eeb",
      "1fa730c110cc4e2eaacc28a8e9efabf7",
      "712f42593f5c4aeb9f857e0d480b44be",
      "ddad1150efbc4d10a500bcae92efacae",
      "e1c8517e25714281921b5a1ad8fb6e9c",
      "eb7afc94619648d8b019f8d5e530c5e5",
      "aeac0224d04e42769497c5690471314f",
      "685fa9d107f64110b9a0d90b9880066b",
      "58475780b89644e3a42946c6cc193c1d",
      "501a7db007e84e8aa317eedc2f770bf4",
      "94bd2d0656074542b3438c05c9e1e060",
      "8bb04f18590f47b880988632b3cb5ac3",
      "0e8bf5c473f645ac8059762f8c6fdbf4",
      "9350d228b686468d8fb43f3bdfba9aa3",
      "116a4d9682634229b55e82e3ed9044a7",
      "5cc8f19f5206461fa3387232ffc87e47",
      "dadfcb37b4494b19a8dd885ba5bfa0dc",
      "1c503a1817584c329f7ff02db37ca31a",
      "3c0996958c5d457f90460172ced7cbf0",
      "2ff00002daa145efadcd5d40e485dbb4",
      "9c9039d3b26d4061863dd2af1cc63f42",
      "1b51d3fbe4e544cfa4bd68985dbaeeab",
      "8d276eda27bb4c7e9ecfcbaebe8d5d9e",
      "957af2dce6ef4fdca0094ab8f49e5d01",
      "193a1cd8b67c419da907a09f404ded44",
      "b0ae235594e4420082e6cc17d11fbcdd"
     ]
    },
    "id": "6m2T0ehnDyoU",
    "outputId": "f9dd2b77-7832-4f35-c8b0-02186a845f2b"
   },
   "outputs": [
    {
     "name": "stderr",
     "output_type": "stream",
     "text": [
      "/usr/local/lib/python3.11/dist-packages/huggingface_hub/utils/_auth.py:94: UserWarning: \n",
      "The secret `HF_TOKEN` does not exist in your Colab secrets.\n",
      "To authenticate with the Hugging Face Hub, create a token in your settings tab (https://huggingface.co/settings/tokens), set it as secret in your Google Colab and restart your session.\n",
      "You will be able to reuse this secret in all of your notebooks.\n",
      "Please note that authentication is recommended but still optional to access public models or datasets.\n",
      "  warnings.warn(\n"
     ]
    },
    {
     "data": {
      "application/vnd.jupyter.widget-view+json": {
       "model_id": "0e67c11c88114305a92e751915f0874a",
       "version_major": 2,
       "version_minor": 0
      },
      "text/plain": [
       "tokenizer_config.json:   0%|          | 0.00/48.0 [00:00<?, ?B/s]"
      ]
     },
     "metadata": {},
     "output_type": "display_data"
    },
    {
     "data": {
      "application/vnd.jupyter.widget-view+json": {
       "model_id": "7612951613684af885c00485caa4510f",
       "version_major": 2,
       "version_minor": 0
      },
      "text/plain": [
       "config.json:   0%|          | 0.00/570 [00:00<?, ?B/s]"
      ]
     },
     "metadata": {},
     "output_type": "display_data"
    },
    {
     "data": {
      "application/vnd.jupyter.widget-view+json": {
       "model_id": "e1c8517e25714281921b5a1ad8fb6e9c",
       "version_major": 2,
       "version_minor": 0
      },
      "text/plain": [
       "vocab.txt:   0%|          | 0.00/232k [00:00<?, ?B/s]"
      ]
     },
     "metadata": {},
     "output_type": "display_data"
    },
    {
     "data": {
      "application/vnd.jupyter.widget-view+json": {
       "model_id": "5cc8f19f5206461fa3387232ffc87e47",
       "version_major": 2,
       "version_minor": 0
      },
      "text/plain": [
       "tokenizer.json:   0%|          | 0.00/466k [00:00<?, ?B/s]"
      ]
     },
     "metadata": {},
     "output_type": "display_data"
    },
    {
     "name": "stdout",
     "output_type": "stream",
     "text": [
      "Simple test passed!\n"
     ]
    }
   ],
   "source": [
    "from transformers import AutoTokenizer\n",
    "\n",
    "# Loading the Tokenizer:\n",
    "tokenizer = AutoTokenizer.from_pretrained(\"bert-base-uncased\")\n",
    "\n",
    "# Test case: Basic word detection\n",
    "sentence = \"Working with tokenizer is fun!\"\n",
    "target_word = \"tokenizer\"\n",
    "start_idx = sentence.index(target_word)\n",
    "end_idx = start_idx + len(target_word)\n",
    "encoding = tokenizer(sentence, return_offsets_mapping=True, return_tensors=\"pt\")\n",
    "offset_mapping = encoding[\"offset_mapping\"][0] # get the first item to remove the tokenizer's batching\n",
    "input_ids = encoding[\"input_ids\"][0] # get the first item to remove the tokenizer's batching\n",
    "\n",
    "mask = find_target_token_indices(start_idx, end_idx, offset_mapping)\n",
    "\n",
    "assert mask.shape == input_ids.shape, \"Mask should have the same shape as input_ids\"\n",
    "assert mask.sum().item() > 0, \"Target word indices should be masked\"\n",
    "assert (tokenizer.decode(input_ids[mask==1])) == \"tokenizer\", \"Wrong word is masked!\"\n",
    "\n",
    "print(\"Simple test passed!\")\n"
   ]
  },
  {
   "cell_type": "markdown",
   "metadata": {
    "id": "0naCUZcYLYHB"
   },
   "source": [
    "## WiCDataset class"
   ]
  },
  {
   "cell_type": "markdown",
   "metadata": {
    "id": "4ZXnPLpwwY9V"
   },
   "source": [
    "The WiCDataset class implements a PyTorch Dataset for the Word-in-Context (WiC) task. It processes pairs of sentences where a target word appears in both, preparing the data for a model to determine if the word has the same meaning in both contexts.\n",
    "The inputs are:\n",
    "\n",
    "Inputs:\n",
    "- `dataset` containing sentence pairs, target word indices, and labels;\n",
    "- `tokenizer` : an instance of bert tokenizer;\n",
    "- `max_length` : the max length parameter that we pass to the tokenizer when encoding a sentence.\n",
    "\n",
    "When the `__getitem__` method is called, you should extract the sentence pairs, word indices, and labels for the dataset item at index `idx`. Then, tokenize both sentences with padding and truncation. Next, create target masks to highlight the word positions using the `find_target_token_indices` function you implemented earlier.  \n",
    "\n",
    "Your output should be a dictionary containing the tokenized inputs, attention masks, target masks, the item label, and the target word.\n",
    "\n",
    "Example usage:\n",
    "\n",
    "\n",
    "\n",
    "\n",
    "```python\n",
    "tokenizer = AutoTokenizer.from_pretrained(\"bert-base-uncased\")\n",
    "dataset = dataset = load_dataset(\"super_glue\", \"wic\",\n",
    "                       trust_remote_code=True)\n",
    "wic_dataset = WiCDataset(dataset[\"train\"], tokenizer)\n",
    "\n",
    "# Get first instance\n",
    "sample = wic_dataset[0]\n",
    "\n",
    "# Print original sentences\n",
    "print(\"Sentence 1:\", dataset[\"train\"][\"sentence1\"][0])\n",
    "print(\"Sentence 2:\", dataset[\"train\"][\"sentence2\"][0])\n",
    "print(\"Target word:\", sample[\"word\"])\n",
    "print(\"Label:\", sample[\"label\"])\n",
    "\n",
    "# Print tokenized output\n",
    "print(\"\\nTokenized sentence 1:\",\n",
    "      tokenizer.convert_ids_to_tokens(sample[\"input_ids1\"]))\n",
    "\n",
    "# Show target word position\n",
    "print(\"\\nTarget mask 1:\", sample[\"target_mask1\"])\n",
    "print(\"Target mask 2:\", sample[\"target_mask2\"])\n",
    "\n",
    "# Check attention masks (1 for tokens, 0 for padding)\n",
    "print(\"\\nAttention mask 1:\", sample[\"attention_mask1\"])\n",
    "```\n",
    "\n"
   ]
  },
  {
   "cell_type": "code",
   "execution_count": null,
   "metadata": {
    "id": "cyQFUaVDkl4b"
   },
   "outputs": [],
   "source": [
    "from torch.utils.data import Dataset\n",
    "import torch\n",
    "\n",
    "class WiCDataset(Dataset):\n",
    "    def __init__(self, dataset, tokenizer, max_length=128):\n",
    "        \"\"\"\n",
    "        Initializes the WiC dataset.\n",
    "\n",
    "        Args:\n",
    "            dataset: Dataset containing sentence pairs, target word indices, and labels\n",
    "            tokenizer: BERT Tokenizer\n",
    "            max_length: Maximum token length for tokenization\n",
    "        \"\"\"\n",
    "        self.dataset = dataset\n",
    "        self.tokenizer = tokenizer\n",
    "        self.max_length = max_length\n",
    "\n",
    "    def __len__(self):\n",
    "        return len(self.dataset)  # Return the size of the dataset\n",
    "\n",
    "    def __getitem__(self, idx):\n",
    "        \"\"\"\n",
    "        Retrieves and processes a single data instance from the dataset.\n",
    "\n",
    "        Args:\n",
    "            idx: Index of the data instance\n",
    "\n",
    "        Returns:\n",
    "            A dictionary containing tokenized input, target masks, and label for the instance.\n",
    "        \"\"\"\n",
    "        # Extracting sentence pair, word, label, start and end indices\n",
    "        item = self.dataset[idx]\n",
    "        sentence1 = item['sentence1']\n",
    "        sentence2 = item['sentence2']\n",
    "        word = item['word']\n",
    "        label = item['label']\n",
    "        start1 = item['start1']\n",
    "        end1 = item['end1']\n",
    "        start2 = item['start2']\n",
    "        end2 = item['end2']\n",
    "\n",
    "        # Tokenize sentence1\n",
    "        encoding1 = self.tokenizer(\n",
    "            sentence1,\n",
    "            max_length=self.max_length,\n",
    "            padding='max_length',      # Pad the sentences to the max length\n",
    "            truncation=True,           # Truncate if necessary\n",
    "            return_offsets_mapping=True,\n",
    "            return_tensors='pt'        # Return as PyTorch tensors\n",
    "        )\n",
    "\n",
    "        # Removing batch dimensions\n",
    "        input_ids1 = encoding1['input_ids'].squeeze(0)\n",
    "        attention_mask1 = encoding1['attention_mask'].squeeze(0)\n",
    "        offset_mapping1 = encoding1['offset_mapping'].squeeze(0)\n",
    "        target_mask1 = find_target_token_indices(start1, end1, offset_mapping1)  # Generate target mask for sentence1\n",
    "\n",
    "        # Tokenize sentence2\n",
    "        encoding2 = self.tokenizer(\n",
    "            sentence2,\n",
    "            max_length=self.max_length,\n",
    "            padding='max_length',       # Pad the sentences to the max length\n",
    "            truncation=True,            # Truncate if necessary\n",
    "            return_offsets_mapping=True,\n",
    "            return_tensors='pt'         # Return as PyTorch tensors\n",
    "        )\n",
    "\n",
    "        # Removing batch dimensions\n",
    "        input_ids2 = encoding2['input_ids'].squeeze(0)\n",
    "        attention_mask2 = encoding2['attention_mask'].squeeze(0)\n",
    "        offset_mapping2 = encoding2['offset_mapping'].squeeze(0)\n",
    "        target_mask2 = find_target_token_indices(start2, end2, offset_mapping2)  # Generate target mask for sentence2\n",
    "\n",
    "        # Return the processed data as a dictionary\n",
    "        return {\n",
    "            'input_ids1': input_ids1,\n",
    "            'attention_mask1': attention_mask1,\n",
    "            'input_ids2': input_ids2,\n",
    "            'attention_mask2': attention_mask2,\n",
    "            'target_mask1': target_mask1,\n",
    "            'target_mask2': target_mask2,\n",
    "            'label': torch.tensor(label, dtype=torch.long),  # Convert label to tensor\n",
    "            'word': word     # Returns the target word\n",
    "        }"
   ]
  },
  {
   "cell_type": "markdown",
   "metadata": {
    "id": "N6xrkI6fktCr"
   },
   "source": [
    "Test your WiCDataset:"
   ]
  },
  {
   "cell_type": "code",
   "execution_count": null,
   "metadata": {
    "colab": {
     "base_uri": "https://localhost:8080/"
    },
    "id": "d1I1EBr8NgZh",
    "outputId": "7ce70726-1555-4999-e90b-df7912b11ca3"
   },
   "outputs": [
    {
     "name": "stdout",
     "output_type": "stream",
     "text": [
      "{'input_ids1': tensor([[  101,  2017,  2442,  4287,  2115, 13215,  6718,  1012,   102,     0,\n",
      "             0,     0,     0,     0,     0],\n",
      "        [  101,  7696,  2442,  2175,  2083,  8041,  6833,  1012,   102,     0,\n",
      "             0,     0,     0,     0,     0],\n",
      "        [  101,  3338,  2019,  4862,  5638,  1012,   102,     0,     0,     0,\n",
      "             0,     0,     0,     0,     0],\n",
      "        [  101,  2002,  5078,  1037, 23407, 16195,  2007,  1037,  3384,  2452,\n",
      "          1012,   102,     0,     0,     0],\n",
      "        [  101,  1996,  2914,  1997,  2189,  1012,   102,     0,     0,     0,\n",
      "             0,     0,     0,     0,     0]]), 'attention_mask1': tensor([[1, 1, 1, 1, 1, 1, 1, 1, 1, 0, 0, 0, 0, 0, 0],\n",
      "        [1, 1, 1, 1, 1, 1, 1, 1, 1, 0, 0, 0, 0, 0, 0],\n",
      "        [1, 1, 1, 1, 1, 1, 1, 0, 0, 0, 0, 0, 0, 0, 0],\n",
      "        [1, 1, 1, 1, 1, 1, 1, 1, 1, 1, 1, 1, 0, 0, 0],\n",
      "        [1, 1, 1, 1, 1, 1, 1, 0, 0, 0, 0, 0, 0, 0, 0]]), 'input_ids2': tensor([[  101,  2614,  7883,  2092,  2058,  2300,  1012,   102,     0,     0,\n",
      "             0,     0,     0,     0,     0],\n",
      "        [  101,  2079,  2017,  2228,  1996, 10682,  2097,  2175,  2083,  1996,\n",
      "          2341,  1029,   102,     0,     0],\n",
      "        [  101,  1996, 17264,  2099,  3631,  1996, 11661, 15665,  2046, 27396,\n",
      "          2015,  1998,  8378,  2005,   102],\n",
      "        [  101, 13734,  3561,  1996, 13844,  2368, 10268,  2007,  6861,  1012,\n",
      "           102,     0,     0,     0,     0],\n",
      "        [  101,  1996,  2413,  2914,  1012,   102,     0,     0,     0,     0,\n",
      "             0,     0,     0,     0,     0]]), 'attention_mask2': tensor([[1, 1, 1, 1, 1, 1, 1, 1, 0, 0, 0, 0, 0, 0, 0],\n",
      "        [1, 1, 1, 1, 1, 1, 1, 1, 1, 1, 1, 1, 1, 0, 0],\n",
      "        [1, 1, 1, 1, 1, 1, 1, 1, 1, 1, 1, 1, 1, 1, 1],\n",
      "        [1, 1, 1, 1, 1, 1, 1, 1, 1, 1, 1, 0, 0, 0, 0],\n",
      "        [1, 1, 1, 1, 1, 1, 0, 0, 0, 0, 0, 0, 0, 0, 0]]), 'target_mask1': tensor([[0., 0., 0., 1., 0., 0., 0., 0., 0., 0., 0., 0., 0., 0., 0.],\n",
      "        [0., 0., 0., 1., 0., 0., 0., 0., 0., 0., 0., 0., 0., 0., 0.],\n",
      "        [0., 1., 0., 0., 0., 0., 0., 0., 0., 0., 0., 0., 0., 0., 0.],\n",
      "        [0., 0., 0., 0., 0., 0., 0., 0., 0., 1., 0., 0., 0., 0., 0.],\n",
      "        [0., 0., 1., 0., 0., 0., 0., 0., 0., 0., 0., 0., 0., 0., 0.]]), 'target_mask2': tensor([[0., 0., 1., 0., 0., 0., 0., 0., 0., 0., 0., 0., 0., 0., 0.],\n",
      "        [0., 0., 0., 0., 0., 0., 0., 1., 0., 0., 0., 0., 0., 0., 0.],\n",
      "        [0., 0., 0., 0., 1., 0., 0., 0., 0., 0., 0., 0., 0., 0., 0.],\n",
      "        [0., 0., 0., 0., 0., 0., 1., 0., 0., 0., 0., 0., 0., 0., 0.],\n",
      "        [0., 0., 0., 1., 0., 0., 0., 0., 0., 0., 0., 0., 0., 0., 0.]]), 'label': tensor([0, 0, 0, 1, 0]), 'word': ['carry', 'go', 'break', 'cup', 'academy']}\n",
      "Simple test passed!\n"
     ]
    }
   ],
   "source": [
    "import torch\n",
    "from transformers import AutoTokenizer\n",
    "from torch.utils.data import DataLoader\n",
    "\n",
    "# A simple dataset to test\n",
    "dataset_sample = dataset['train'].select(range(5))  # Select first 5 rows correctly\n",
    "\n",
    "# Simple tokenizer\n",
    "tokenizer = AutoTokenizer.from_pretrained('bert-base-uncased')\n",
    "\n",
    "# Create DataLoader\n",
    "dataset_instance = WiCDataset(dataset_sample, tokenizer, max_length=15)\n",
    "dataloader = DataLoader(dataset_instance, batch_size=5, shuffle=False)\n",
    "\n",
    "# Testing the first batch\n",
    "batch = next(iter(dataloader))\n",
    "print(batch)\n",
    "\n",
    "assert tokenizer.convert_ids_to_tokens(batch['input_ids1'][batch['target_mask1']==1]) == batch['word'], 'Wrong words masked!'\n",
    "print('Simple test passed!')"
   ]
  },
  {
   "cell_type": "markdown",
   "metadata": {
    "id": "bX6U-0zmSlmX"
   },
   "source": [
    "## WiCClassifier torch module"
   ]
  },
  {
   "cell_type": "markdown",
   "metadata": {
    "id": "f_GE0XSKnH5-"
   },
   "source": [
    "To build a WiC classifier, create a PyTorch model that inherits from nn.Module. Your model should use a pre-trained BERT model to extract contextual embeddings and include a classifier for binary classification. The classifier should consist of a nn.Linear layer followed by a nn.ReLU activation. The input size of the linear layer should be 2 * bert_hidden_size (which is 768 for BERT, resulting in 1536), and the output size should be 2, equal to the number of our classes. The input size is doubled because the model concatenates two vectors of size 768—as we see later in `forward` method, each representing the target word embedding from one of the two sentences—before passing them to the classifier.\n",
    "\n",
    "In the `__init__` method, store the BERT model as `self.bert`, and define the linear classifier with the appropriate input and output sizes and the relu activation function. After the linear layer, apply `nn.ReLU()` to introduce non-linearity and improve the model’s ability to capture complex patterns. You can stack different torch modules on top using `nn.Sequential` ([look at the PyTorch documentation for more details](https://pytorch.org/docs/stable/generated/torch.nn.Sequential.html)). This setup ensures that your model can effectively distinguish between the two classes.\n",
    "\n",
    "The `forward` method should take six inputs: two sets of input IDs and attention masks, along with two target masks. First, pass these inputs through BERT to obtain the contextual embeddings for both sentences. Then, compute the target word representations using masked averaging: multiply the embeddings by the target mask to zero out the embeddings of subwords that do not belong to the target word, sum the remaining embeddings, and divide by the number of subword tokens of the target word. Finally, concatenate these average-pulled target word representations and pass the resulting vector through the classifier you initialized earlier to generate the prediction.\n",
    "\n",
    "Note: At some point, you should be using the `unsqueeze()` method of torch tensors to ensure correct broadcasting (hint: when applying target masks to the extracted embeddings). Also, make sure that all operations maintain the batch dimension so that your model works correctly during training."
   ]
  },
  {
   "cell_type": "code",
   "execution_count": null,
   "metadata": {
    "id": "bdz1of4HmGDt"
   },
   "outputs": [],
   "source": [
    "import torch.nn as nn\n",
    "\n",
    "class WiCClassifier(nn.Module):\n",
    "\n",
    "    def __init__(self, bert_model):\n",
    "        \"\"\"\n",
    "        Initialize the WiCClassifier model.\n",
    "\n",
    "        Args:\n",
    "            bert_model (nn.Module): Pre-trained BERT model for contextual embeddings\n",
    "        \"\"\"\n",
    "        super().__init__()\n",
    "        self.bert = bert_model\n",
    "\n",
    "        # Defining a Classifier : Linear layer followed by ReLU activation\n",
    "        self.classifier = nn.Sequential(\n",
    "            nn.Linear(2 * 768, 2), # Input size: 2 * BERT hidden size (768), Output size: 2 (for binary classification)\n",
    "            nn.ReLU()              # ReLU activation to introduce non-linearity to the model\n",
    "        )\n",
    "\n",
    "        \"\"\"\n",
    "        Shape of all the input tensors is > [batch_size, max_sequence_length]\n",
    "\n",
    "        Args:\n",
    "            input_ids1 (torch.Tensor): Tokenized input IDs for first sentence\n",
    "            attention_mask1 (torch.Tensor): Attention mask for first sentence\n",
    "            input_ids2 (torch.Tensor): Tokenized input IDs for second sentence\n",
    "            attention_mask2 (torch.Tensor): Attention mask for second sentence\n",
    "            target_mask1 (torch.Tensor): Binary mask highlighting target word tokens in first sentence\n",
    "            target_mask2 (torch.Tensor): Binary mask highlighting target word tokens in second sentence\n",
    "\n",
    "        Output:\n",
    "            classification_logits (torch.Tensor): Logits for binary classification > Shape: [batch_size, 2]\n",
    "\n",
    "        Workflow:\n",
    "        1. Extract contextual embeddings for both sentences using BERT\n",
    "        2. Compute target word representations by masked averaging\n",
    "        3. Concatenate target word representations\n",
    "        4. Classify using a linear layer\n",
    "        \"\"\"\n",
    "\n",
    "\n",
    "\n",
    "\n",
    "\n",
    "    def forward(self, input_ids1, attention_mask1, input_ids2, attention_mask2, target_mask1, target_mask2):\n",
    "        # Get embeddings for both sentences\n",
    "        outputs1 = self.bert(input_ids1, attention_mask=attention_mask1)\n",
    "        embeddings1 = outputs1.last_hidden_state   # Extract embeddings from the last hidden layer\n",
    "        outputs2 = self.bert(input_ids2, attention_mask=attention_mask2)\n",
    "        embeddings2 = outputs2.last_hidden_state   # Extract embeddings from the last hidden layer\n",
    "\n",
    "        # Compute target word embeddings dor both sentences using masked average\n",
    "\n",
    "        # Mask the embeddings by target word positions and sum the masked tokens\n",
    "        target_mask1 = target_mask1.unsqueeze(-1) # Add an extra dimension for broadcasting\n",
    "        masked_embeddings1 = embeddings1 * target_mask1  # Apply target mask to embeddings\n",
    "        summed_embeddings1 = torch.sum(masked_embeddings1, dim=1) # Sum embeddings along sequence dimension\n",
    "        sum_mask1 = torch.sum(target_mask1.squeeze(-1), dim=1, keepdim=True)  #Count the number of subword tokens\n",
    "        avg_embeddings1 = summed_embeddings1 / sum_mask1.clamp(min=1e-9)      # Compute average by dividing by token count\n",
    "\n",
    "        target_mask2 = target_mask2.unsqueeze(-1) # Add an extra dimension for broadcasting\n",
    "        masked_embeddings2 = embeddings2 * target_mask2  # Apply target mask to embeddings\n",
    "        summed_embeddings2 = torch.sum(masked_embeddings2, dim=1)  # Sum embeddings along sequence dimension\n",
    "        sum_mask2 = torch.sum(target_mask2.squeeze(-1), dim=1, keepdim=True)  # Count the number of subword tokens\n",
    "        avg_embeddings2 = summed_embeddings2 / sum_mask2.clamp(min=1e-9) # Compute avg by dividing by token count\n",
    "\n",
    "        # Concatenate thee target word representations from both sentences\n",
    "        combined = torch.cat([avg_embeddings1, avg_embeddings2], dim=1)\n",
    "\n",
    "         # Pass the concatenated vector through the classifier to get logits\n",
    "        logits = self.classifier(combined)  # Apply the linear layer with ReLU activation\n",
    "        return logits\n"
   ]
  },
  {
   "cell_type": "markdown",
   "metadata": {
    "id": "JfWlR1o-bngm"
   },
   "source": [
    "## Train the model"
   ]
  },
  {
   "cell_type": "markdown",
   "metadata": {
    "id": "i9b6qzQ8bpVQ"
   },
   "source": [
    "You can train your model using the following code:"
   ]
  },
  {
   "cell_type": "code",
   "execution_count": null,
   "metadata": {
    "colab": {
     "base_uri": "https://localhost:8080/",
     "height": 257,
     "referenced_widgets": [
      "df1d4c0014704a8d8a259364fca71e60",
      "1040cb186f9f4a168e0804ac84927919",
      "12479acb03b54381a86059a1b5c15768",
      "66460bc5a9d346298b3d15b0b74bd4d4",
      "ac78a12e2f5b4fbeae698071b09f00cd",
      "5e60cad65caa4cecb781fc53433e5505",
      "da6c8bd1caf44a068d004af30f937ace",
      "d541839118c54eb5985d48a8ddf6504c",
      "217a9818313c459a88a85bdd996daa70",
      "f3974d267f8f4a059eed443434eaee2b",
      "22c4fe11e24549fd85c6e4826cf51913"
     ]
    },
    "id": "I0DuBulPrjna",
    "outputId": "731fcdd2-a5a2-4204-c6ab-220f0daf6e5e"
   },
   "outputs": [
    {
     "data": {
      "application/vnd.jupyter.widget-view+json": {
       "model_id": "df1d4c0014704a8d8a259364fca71e60",
       "version_major": 2,
       "version_minor": 0
      },
      "text/plain": [
       "model.safetensors:   0%|          | 0.00/440M [00:00<?, ?B/s]"
      ]
     },
     "metadata": {},
     "output_type": "display_data"
    },
    {
     "name": "stderr",
     "output_type": "stream",
     "text": [
      "100%|██████████| 170/170 [03:20<00:00,  1.18s/it, Loss=0.575]\n"
     ]
    },
    {
     "name": "stdout",
     "output_type": "stream",
     "text": [
      "Epoch 1/3 done!\n",
      "Average training loss: 0.6705\n",
      "Validation accuracy: 0.5627\n"
     ]
    },
    {
     "name": "stderr",
     "output_type": "stream",
     "text": [
      "100%|██████████| 170/170 [03:25<00:00,  1.21s/it, Loss=0.784]\n"
     ]
    },
    {
     "name": "stdout",
     "output_type": "stream",
     "text": [
      "Epoch 2/3 done!\n",
      "Average training loss: 0.5434\n",
      "Validation accuracy: 0.5690\n"
     ]
    },
    {
     "name": "stderr",
     "output_type": "stream",
     "text": [
      "100%|██████████| 170/170 [03:25<00:00,  1.21s/it, Loss=0.42]\n"
     ]
    },
    {
     "name": "stdout",
     "output_type": "stream",
     "text": [
      "Epoch 3/3 done!\n",
      "Average training loss: 0.4069\n",
      "Validation accuracy: 0.5768\n"
     ]
    }
   ],
   "source": [
    "from tqdm import tqdm\n",
    "from torch.utils.data import DataLoader\n",
    "import torch.nn as nn\n",
    "from transformers import AutoModel\n",
    "\n",
    "num_epochs = 3\n",
    "learning_rate = 2e-5\n",
    "max_length=128\n",
    "device = torch.device('cuda' if torch.cuda.is_available() else 'cpu')\n",
    "\n",
    "\n",
    "train_dataset = WiCDataset(dataset['train'], tokenizer, max_length)\n",
    "val_dataset = WiCDataset(dataset['validation'], tokenizer, max_length)\n",
    "\n",
    "train_loader = DataLoader(train_dataset, batch_size=32, shuffle=True)\n",
    "val_loader = DataLoader(val_dataset, batch_size=32)\n",
    "\n",
    "\n",
    "bert_model = AutoModel.from_pretrained('bert-base-uncased')\n",
    "model = WiCClassifier(bert_model)\n",
    "model = model.to(device)\n",
    "\n",
    "optimizer = torch.optim.AdamW(model.parameters(), lr=learning_rate)\n",
    "criterion = nn.CrossEntropyLoss()\n",
    "\n",
    "for epoch in range(num_epochs):\n",
    "    model.train()\n",
    "    total_loss = 0\n",
    "\n",
    "    progress_bar = tqdm(train_loader)\n",
    "    for batch in progress_bar:\n",
    "        input_ids1 = batch['input_ids1'].to(device)\n",
    "        input_ids2 = batch['input_ids2'].to(device)\n",
    "        attention_mask1 = batch['attention_mask1'].to(device)\n",
    "        attention_mask2 = batch['attention_mask2'].to(device)\n",
    "        target_mask1 = batch['target_mask1'].to(device)\n",
    "        target_mask2 = batch['target_mask2'].to(device)\n",
    "        labels = batch['label'].to(device)\n",
    "\n",
    "        optimizer.zero_grad()\n",
    "        outputs = model(input_ids1,\n",
    "                        attention_mask1,\n",
    "                        input_ids2,\n",
    "                        attention_mask2,\n",
    "                        target_mask1,\n",
    "                        target_mask2)\n",
    "\n",
    "        loss = criterion(outputs, labels)\n",
    "        loss.backward()\n",
    "        torch.nn.utils.clip_grad_norm_(model.parameters(), 1.0)\n",
    "        optimizer.step()\n",
    "\n",
    "        total_loss += loss.item()\n",
    "        progress_bar.set_postfix({f\"Loss\": loss.item()})\n",
    "\n",
    "\n",
    "    # Validation\n",
    "    model.eval()\n",
    "    correct = 0\n",
    "    total = 0\n",
    "\n",
    "    with torch.no_grad():\n",
    "        for batch in val_loader:\n",
    "\n",
    "            input_ids1 = batch['input_ids1'].to(device)\n",
    "            input_ids2 = batch['input_ids2'].to(device)\n",
    "            attention_mask1 = batch['attention_mask1'].to(device)\n",
    "            attention_mask2 = batch['attention_mask2'].to(device)\n",
    "            target_mask1 = batch['target_mask1'].to(device)\n",
    "            target_mask2 = batch['target_mask2'].to(device)\n",
    "            labels = batch['label'].to(device)\n",
    "\n",
    "\n",
    "            outputs = model(input_ids1, attention_mask1, input_ids2, attention_mask2, target_mask1, target_mask2)\n",
    "            _, predicted = torch.max(outputs.data, 1)\n",
    "            total += labels.size(0)\n",
    "            correct += (predicted == labels).sum().item()\n",
    "\n",
    "    val_acc = correct / total\n",
    "\n",
    "    print(f\"Epoch {epoch+1}/{num_epochs} done!\")\n",
    "    print(f\"Average training loss: {total_loss/len(train_loader):.4f}\")\n",
    "    print(f\"Validation accuracy: {val_acc:.4f}\")"
   ]
  },
  {
   "cell_type": "markdown",
   "metadata": {
    "id": "gQYQmgLEcJoj"
   },
   "source": [
    "The WiC dataset includes a test set, in addition to the train and validation sets. Write a code to evaluate your model on the test set of the WiC dataset and print out the accuracy, following a similar approach as we did in the training loop with the validation dataset."
   ]
  },
  {
   "cell_type": "code",
   "execution_count": null,
   "metadata": {
    "colab": {
     "base_uri": "https://localhost:8080/"
    },
    "id": "VaHW0Q3Hcuyy",
    "outputId": "027351c3-74d8-4702-8e51-4ee20a53c90d"
   },
   "outputs": [
    {
     "name": "stdout",
     "output_type": "stream",
     "text": [
      "Test Accuracy: 0.5507\n"
     ]
    }
   ],
   "source": [
    "test_dataset = WiCDataset(dataset['test'], tokenizer, max_length)\n",
    "test_loader = DataLoader(test_dataset, batch_size=16)\n",
    "\n",
    "model.eval()\n",
    "correct = 0\n",
    "total = 0\n",
    "with torch.no_grad():\n",
    "    for batch in test_loader:\n",
    "        # Move batch tensors to the same device as the model\n",
    "        input_ids1 = batch['input_ids1'].to(device)\n",
    "        attention_mask1 = batch['attention_mask1'].to(device)\n",
    "        input_ids2 = batch['input_ids2'].to(device)\n",
    "        attention_mask2 = batch['attention_mask2'].to(device)\n",
    "        target_mask1 = batch['target_mask1'].to(device)\n",
    "        target_mask2 = batch['target_mask2'].to(device)\n",
    "        labels = batch['label'].to(device)\n",
    "\n",
    "        # Get model predictions:\n",
    "        outputs = model(input_ids1, attention_mask1, input_ids2, attention_mask2, target_mask1, target_mask2)\n",
    "\n",
    "        # Get predicted class\n",
    "        _, predicted = torch.max(outputs, 1)\n",
    "        # Update correct count and total count\n",
    "        total += labels.size(0)\n",
    "        correct += (predicted == labels).sum().item()\n",
    "\n",
    "# Print Test accuracy\n",
    "print(f\"Test Accuracy: {correct/total:.4f}\")"
   ]
  },
  {
   "cell_type": "markdown",
   "metadata": {
    "id": "orlWgTiiutrr"
   },
   "source": [
    "## Improve your model"
   ]
  },
  {
   "cell_type": "markdown",
   "metadata": {
    "id": "1ukIVLT7uw_I"
   },
   "source": [
    "This section is all yours! Try exploring a different approach to solving this task. You could experiment with modifying the classifier architecture—for example, adding more linear layers instead of using just one. Additionally, consider adjusting the training hyperparameters, such as increasing the number of training epochs, to improve performance.\n",
    "\n",
    "Go ahead and implement your new model and training loop. Your updated training loop should also record the loss at each iteration. Once training is complete, visualize the recorded training loss values by plotting them using a library like Matplotlib. You must also aim for a final test accuracy in the range of 65–70%."
   ]
  },
  {
   "cell_type": "code",
   "execution_count": null,
   "metadata": {
    "colab": {
     "base_uri": "https://localhost:8080/",
     "height": 1000
    },
    "id": "RujlcaoPE6v0",
    "outputId": "4f94e9cc-5e42-4b9e-dac3-e99787c48e6b"
   },
   "outputs": [
    {
     "metadata": {
      "tags": null
     },
     "name": "stdout",
     "output_type": "stream",
     "text": [
      "Device set to use cuda\n",
      "Training with Config 1 (r=10, lora_alpha=16)\n"
     ]
    },
    {
     "metadata": {
      "tags": null
     },
     "name": "stderr",
     "output_type": "stream",
     "text": [
      "Epoch 1/5: 100%|██████████| 170/170 [02:32<00:00,  1.11it/s]\n"
     ]
    },
    {
     "metadata": {
      "tags": null
     },
     "name": "stdout",
     "output_type": "stream",
     "text": [
      "Epoch 1/5 done! Average training loss: 0.6744\n",
      "Validation accuracy for Config 1: 0.5972\n"
     ]
    },
    {
     "metadata": {
      "tags": null
     },
     "name": "stderr",
     "output_type": "stream",
     "text": [
      "Epoch 2/5: 100%|██████████| 170/170 [02:32<00:00,  1.12it/s]\n"
     ]
    },
    {
     "metadata": {
      "tags": null
     },
     "name": "stdout",
     "output_type": "stream",
     "text": [
      "Epoch 2/5 done! Average training loss: 0.6205\n",
      "Validation accuracy for Config 1: 0.6395\n"
     ]
    },
    {
     "metadata": {
      "tags": null
     },
     "name": "stderr",
     "output_type": "stream",
     "text": [
      "Epoch 3/5: 100%|██████████| 170/170 [02:32<00:00,  1.12it/s]\n"
     ]
    },
    {
     "metadata": {
      "tags": null
     },
     "name": "stdout",
     "output_type": "stream",
     "text": [
      "Epoch 3/5 done! Average training loss: 0.5826\n",
      "Validation accuracy for Config 1: 0.6254\n"
     ]
    },
    {
     "metadata": {
      "tags": null
     },
     "name": "stderr",
     "output_type": "stream",
     "text": [
      "Epoch 4/5: 100%|██████████| 170/170 [02:31<00:00,  1.12it/s]\n"
     ]
    },
    {
     "metadata": {
      "tags": null
     },
     "name": "stdout",
     "output_type": "stream",
     "text": [
      "Epoch 4/5 done! Average training loss: 0.5590\n",
      "Validation accuracy for Config 1: 0.6301\n"
     ]
    },
    {
     "metadata": {
      "tags": null
     },
     "name": "stderr",
     "output_type": "stream",
     "text": [
      "Epoch 5/5: 100%|██████████| 170/170 [02:31<00:00,  1.12it/s]\n"
     ]
    },
    {
     "metadata": {
      "tags": null
     },
     "name": "stdout",
     "output_type": "stream",
     "text": [
      "Epoch 5/5 done! Average training loss: 0.5527\n",
      "Validation accuracy for Config 1: 0.6254\n",
      "Training with Config 2 (r=12, lora_alpha=15)\n"
     ]
    },
    {
     "metadata": {
      "tags": null
     },
     "name": "stderr",
     "output_type": "stream",
     "text": [
      "Epoch 1/5: 100%|██████████| 170/170 [02:31<00:00,  1.12it/s]\n"
     ]
    },
    {
     "metadata": {
      "tags": null
     },
     "name": "stdout",
     "output_type": "stream",
     "text": [
      "Epoch 1/5 done! Average training loss: 0.6747\n",
      "Validation accuracy for Config 2: 0.5972\n"
     ]
    },
    {
     "metadata": {
      "tags": null
     },
     "name": "stderr",
     "output_type": "stream",
     "text": [
      "Epoch 2/5: 100%|██████████| 170/170 [02:31<00:00,  1.12it/s]\n"
     ]
    },
    {
     "metadata": {
      "tags": null
     },
     "name": "stdout",
     "output_type": "stream",
     "text": [
      "Epoch 2/5 done! Average training loss: 0.6162\n",
      "Validation accuracy for Config 2: 0.6223\n"
     ]
    },
    {
     "metadata": {
      "tags": null
     },
     "name": "stderr",
     "output_type": "stream",
     "text": [
      "Epoch 3/5: 100%|██████████| 170/170 [02:31<00:00,  1.12it/s]\n"
     ]
    },
    {
     "metadata": {
      "tags": null
     },
     "name": "stdout",
     "output_type": "stream",
     "text": [
      "Epoch 3/5 done! Average training loss: 0.5820\n",
      "Validation accuracy for Config 2: 0.6285\n"
     ]
    },
    {
     "metadata": {
      "tags": null
     },
     "name": "stderr",
     "output_type": "stream",
     "text": [
      "Epoch 4/5: 100%|██████████| 170/170 [02:31<00:00,  1.12it/s]\n"
     ]
    },
    {
     "metadata": {
      "tags": null
     },
     "name": "stdout",
     "output_type": "stream",
     "text": [
      "Epoch 4/5 done! Average training loss: 0.5624\n",
      "Validation accuracy for Config 2: 0.6332\n"
     ]
    },
    {
     "metadata": {
      "tags": null
     },
     "name": "stderr",
     "output_type": "stream",
     "text": [
      "Epoch 5/5: 100%|██████████| 170/170 [02:32<00:00,  1.12it/s]\n"
     ]
    },
    {
     "metadata": {
      "tags": null
     },
     "name": "stdout",
     "output_type": "stream",
     "text": [
      "Epoch 5/5 done! Average training loss: 0.5471\n",
      "Validation accuracy for Config 2: 0.6301\n",
      "Training with Config 3 (r=14, lora_alpha=14)\n"
     ]
    },
    {
     "metadata": {
      "tags": null
     },
     "name": "stderr",
     "output_type": "stream",
     "text": [
      "Epoch 1/5: 100%|██████████| 170/170 [02:32<00:00,  1.12it/s]\n"
     ]
    },
    {
     "metadata": {
      "tags": null
     },
     "name": "stdout",
     "output_type": "stream",
     "text": [
      "Epoch 1/5 done! Average training loss: 0.6820\n",
      "Validation accuracy for Config 3: 0.6301\n"
     ]
    },
    {
     "metadata": {
      "tags": null
     },
     "name": "stderr",
     "output_type": "stream",
     "text": [
      "Epoch 2/5: 100%|██████████| 170/170 [02:32<00:00,  1.12it/s]\n"
     ]
    },
    {
     "metadata": {
      "tags": null
     },
     "name": "stdout",
     "output_type": "stream",
     "text": [
      "Epoch 2/5 done! Average training loss: 0.6224\n",
      "Validation accuracy for Config 3: 0.6144\n"
     ]
    },
    {
     "metadata": {
      "tags": null
     },
     "name": "stderr",
     "output_type": "stream",
     "text": [
      "Epoch 3/5: 100%|██████████| 170/170 [02:32<00:00,  1.12it/s]\n"
     ]
    },
    {
     "metadata": {
      "tags": null
     },
     "name": "stdout",
     "output_type": "stream",
     "text": [
      "Epoch 3/5 done! Average training loss: 0.5825\n",
      "Validation accuracy for Config 3: 0.6379\n"
     ]
    },
    {
     "metadata": {
      "tags": null
     },
     "name": "stderr",
     "output_type": "stream",
     "text": [
      "Epoch 4/5: 100%|██████████| 170/170 [02:32<00:00,  1.12it/s]\n"
     ]
    },
    {
     "metadata": {
      "tags": null
     },
     "name": "stdout",
     "output_type": "stream",
     "text": [
      "Epoch 4/5 done! Average training loss: 0.5636\n",
      "Validation accuracy for Config 3: 0.6473\n"
     ]
    },
    {
     "metadata": {
      "tags": null
     },
     "name": "stderr",
     "output_type": "stream",
     "text": [
      "Epoch 5/5: 100%|██████████| 170/170 [02:32<00:00,  1.12it/s]\n"
     ]
    },
    {
     "name": "stdout",
     "output_type": "stream",
     "text": [
      "Epoch 5/5 done! Average training loss: 0.5527\n",
      "Validation accuracy for Config 3: 0.6426\n",
      "Best Validation Accuracy: 0.6473\n",
      "Best Configuration: Config 3 (r=14, lora_alpha=14)\n"
     ]
    },
    {
     "data": {
      "image/png": "[encoded data removed]",
      "text/plain": [
       "<Figure size 640x480 with 1 Axes>"
      ]
     },
     "metadata": {},
     "output_type": "display_data"
    },
    {
     "name": "stdout",
     "output_type": "stream",
     "text": [
      "Test Accuracy: 0.6357\n"
     ]
    }
   ],
   "source": [
    "import torch\n",
    "import torch.nn as nn\n",
    "from torch.utils.data import Dataset, DataLoader\n",
    "from transformers import AutoModel, AutoTokenizer\n",
    "from datasets import load_dataset\n",
    "from tqdm import tqdm\n",
    "import matplotlib.pyplot as plt\n",
    "from peft import LoraConfig, get_peft_model\n",
    "from torch.optim.lr_scheduler import LambdaLR\n",
    "\n",
    "# Loading the tokenizer\n",
    "tokenizer = AutoTokenizer.from_pretrained(\"bert-base-uncased\")\n",
    "\n",
    "# WiCDataset\n",
    "class WiCDataset(Dataset):\n",
    "    def __init__(self, dataset, tokenizer, max_length=128):\n",
    "        self.dataset = dataset\n",
    "        self.tokenizer = tokenizer\n",
    "        self.max_length = max_length\n",
    "\n",
    "    def __len__(self):\n",
    "        return len(self.dataset)\n",
    "\n",
    "    def __getitem__(self, idx):\n",
    "        sample = self.dataset[idx]\n",
    "        sent1, sent2 = sample['sentence1'], sample['sentence2']\n",
    "        start1, end1 = sample['start1'], sample['end1']\n",
    "        start2, end2 = sample['start2'], sample['end2']\n",
    "        label = sample['label']\n",
    "\n",
    "        # Tokenize the sentence\n",
    "        enc1 = self.tokenizer(\n",
    "            sent1,\n",
    "            return_offsets_mapping=True,\n",
    "            padding='max_length',\n",
    "            truncation=True,\n",
    "            max_length=self.max_length,\n",
    "            return_tensors=\"pt\"\n",
    "        )\n",
    "        enc2 = self.tokenizer(\n",
    "            sent2,\n",
    "            return_offsets_mapping=True,\n",
    "            padding='max_length',\n",
    "            truncation=True,\n",
    "            max_length=self.max_length,\n",
    "            return_tensors=\"pt\"\n",
    "        )\n",
    "\n",
    "        # Extract tokenized input and offsets:\n",
    "        input_ids1 = enc1[\"input_ids\"][0]\n",
    "        attention_mask1 = enc1[\"attention_mask\"][0]\n",
    "        offsets1 = enc1[\"offset_mapping\"][0]\n",
    "        input_ids2 = enc2[\"input_ids\"][0]\n",
    "        attention_mask2 = enc2[\"attention_mask\"][0]\n",
    "        offsets2 = enc2[\"offset_mapping\"][0]\n",
    "\n",
    "        #  # Generate target masks based on start and end indices\n",
    "        target_mask1 = find_target_token_indices(start1, end1, offsets1)\n",
    "        target_mask2 = find_target_token_indices(start2, end2, offsets2)\n",
    "\n",
    "        return {\n",
    "            'input_ids1': input_ids1, 'attention_mask1': attention_mask1,\n",
    "            'input_ids2': input_ids2, 'attention_mask2': attention_mask2,\n",
    "            'target_mask1': target_mask1, 'target_mask2': target_mask2,\n",
    "            'label': torch.tensor(label, dtype=torch.long)\n",
    "        }\n",
    "\n",
    "def find_target_token_indices(start_idx, end_idx, offset_mapping):\n",
    "   \"\"\"\n",
    "    Returns a mask that identifies the tokens corresponding to the target span.\n",
    "    \"\"\"\n",
    "    mask = torch.zeros(offset_mapping.shape[0], dtype=torch.float)\n",
    "    for i, (token_start, token_end) in enumerate(offset_mapping):\n",
    "        token_start = token_start.item()\n",
    "        token_end = token_end.item()\n",
    "        if token_start < end_idx and token_end > start_idx:\n",
    "            mask[i] = 1.0\n",
    "    return mask\n",
    "\n",
    "# WiCClassifier with interaction features\n",
    "class WiCClassifier(nn.Module):\n",
    "    def __init__(self, bert_model):\n",
    "        \"\"\"\n",
    "        Initializes the classifier using BERT model with an additional classification layer.\n",
    "        \"\"\"\n",
    "        super().__init__()\n",
    "        self.bert = bert_model\n",
    "        hidden_size = bert_model.config.hidden_size\n",
    "        combined_size = hidden_size * 4\n",
    "        self.classifier = nn.Sequential(\n",
    "            nn.Linear(combined_size, 512),\n",
    "            nn.ReLU(),\n",
    "            nn.Dropout(p=0.4),\n",
    "            nn.Linear(512, 2)\n",
    "        )\n",
    "\n",
    "    def forward(self, input_ids1, attention_mask1, input_ids2, attention_mask2, target_mask1, target_mask2):\n",
    "       \"\"\"\n",
    "        Forward pass through the BERT model, followed by interaction-based feature extraction.\n",
    "        \"\"\"\n",
    "        output1 = self.bert(input_ids=input_ids1, attention_mask=attention_mask1)\n",
    "        output2 = self.bert(input_ids=input_ids2, attention_mask=attention_mask2)\n",
    "        embeddings1 = output1.last_hidden_state\n",
    "        embeddings2 = output2.last_hidden_state\n",
    "\n",
    "        # Compute target embedding\n",
    "        mask1 = target_mask1.unsqueeze(-1)\n",
    "        mask2 = target_mask2.unsqueeze(-1)\n",
    "        target_embeds1 = embeddings1 * mask1\n",
    "        target_embeds2 = embeddings2 * mask2\n",
    "        sum_embed1 = target_embeds1.sum(dim=1)\n",
    "        sum_embed2 = target_embeds2.sum(dim=1)\n",
    "        count1 = mask1.sum(dim=1).clamp(min=1)\n",
    "        count2 = mask2.sum(dim=1).clamp(min=1)\n",
    "        target_vec1 = sum_embed1 / count1\n",
    "        target_vec2 = sum_embed2 / count2\n",
    "\n",
    "        # Interaction-based features\n",
    "        mult = target_vec1 * target_vec2\n",
    "        abs_diff = torch.abs(target_vec1 - target_vec2)\n",
    "        combined_vec = torch.cat([target_vec1, target_vec2, mult, abs_diff], dim=1)\n",
    "        logits = self.classifier(combined_vec)\n",
    "        return logits\n",
    "\n",
    "# Training configuration\n",
    "num_epochs = 5\n",
    "learning_rate = 2e-5\n",
    "max_length = 128\n",
    "device = torch.device('cuda' if torch.cuda.is_available() else 'cpu')\n",
    "print(f\"Device set to use {device}\")\n",
    "\n",
    "# Prepare datasets and dataloaders\n",
    "train_dataset = WiCDataset(dataset['train'], tokenizer, max_length)\n",
    "val_dataset = WiCDataset(dataset['validation'], tokenizer, max_length)\n",
    "train_loader = DataLoader(train_dataset, batch_size=32, shuffle=True)\n",
    "val_loader = DataLoader(val_dataset, batch_size=32)\n",
    "\n",
    "# Experimenting with different LoRa configurations\n",
    "def get_model_for_lora_config(lora_config):\n",
    "    base_bert = AutoModel.from_pretrained('bert-base-uncased')\n",
    "    bert_model = get_peft_model(base_bert, lora_config)\n",
    "    model = WiCClassifier(bert_model).to(device)\n",
    "    return model\n",
    "\n",
    "# Using 3 different parameters and selecting the best one\n",
    "lora_configs = [\n",
    "    LoraConfig(r=10, lora_alpha=16, target_modules=[\"query\", \"value\"], lora_dropout=0.1, bias=\"none\", task_type=\"FEATURE_EXTRACTION\"),\n",
    "    LoraConfig(r=12, lora_alpha=15, target_modules=[\"query\", \"value\"], lora_dropout=0.1, bias=\"none\", task_type=\"FEATURE_EXTRACTION\"),\n",
    "    LoraConfig(r=14, lora_alpha=14, target_modules=[\"query\", \"value\"], lora_dropout=0.1, bias=\"none\", task_type=\"FEATURE_EXTRACTION\")\n",
    "]\n",
    "\n",
    "best_val_acc = 0\n",
    "best_config = None\n",
    "val_accs = []\n",
    "best_model = None\n",
    "training_losses = []\n",
    "\n",
    "# Training loop for each LoRA configuration\n",
    "for i, lora_config in enumerate(lora_configs):\n",
    "    print(f\"Training with Config {i+1} (r={lora_config.r}, lora_alpha={lora_config.lora_alpha})\")\n",
    "\n",
    "    # Get model for this configuration\n",
    "    model = get_model_for_lora_config(lora_config)\n",
    "\n",
    "    # Setting up optimizer, scheduler, and loss criterion\n",
    "    optimizer = torch.optim.AdamW(model.parameters(), lr=learning_rate, weight_decay=0.01)\n",
    "    total_steps = len(train_loader) * num_epochs\n",
    "    warmup_steps = int(total_steps * 0.1)\n",
    "    scheduler = LambdaLR(optimizer, lr_lambda=lambda step:\n",
    "        min(1.0, step / warmup_steps) if step < warmup_steps\n",
    "        else max(0.1, 1 - (step - warmup_steps) / (total_steps - warmup_steps))\n",
    "    )\n",
    "    criterion = nn.CrossEntropyLoss()\n",
    "\n",
    "    # Training and validation loop\n",
    "    for epoch in range(num_epochs):\n",
    "        model.train()\n",
    "        total_loss = 0\n",
    "        progress_bar = tqdm(train_loader, desc=f\"Epoch {epoch+1}/{num_epochs}\")\n",
    "        for batch in progress_bar:\n",
    "            input_ids1 = batch['input_ids1'].to(device)\n",
    "            input_ids2 = batch['input_ids2'].to(device)\n",
    "            attention_mask1 = batch['attention_mask1'].to(device)\n",
    "            attention_mask2 = batch['attention_mask2'].to(device)\n",
    "            target_mask1 = batch['target_mask1'].to(device)\n",
    "            target_mask2 = batch['target_mask2'].to(device)\n",
    "            labels = batch['label'].to(device)\n",
    "\n",
    "            optimizer.zero_grad()\n",
    "            outputs = model(input_ids1, attention_mask1, input_ids2, attention_mask2, target_mask1, target_mask2)\n",
    "            loss = criterion(outputs, labels)\n",
    "            total_loss += loss.item()\n",
    "            loss.backward()\n",
    "            torch.nn.utils.clip_grad_norm_(model.parameters(), 1.0)\n",
    "            optimizer.step()\n",
    "            scheduler.step()\n",
    "\n",
    "        avg_train_loss = total_loss / len(train_loader)\n",
    "        print(f\"Epoch {epoch+1}/{num_epochs} done! Average training loss: {avg_train_loss:.4f}\")\n",
    "\n",
    "        # Validation\n",
    "        model.eval()\n",
    "        correct, total = 0, 0\n",
    "        with torch.no_grad():\n",
    "            for batch in val_loader:\n",
    "                input_ids1 = batch['input_ids1'].to(device)\n",
    "                input_ids2 = batch['input_ids2'].to(device)\n",
    "                attention_mask1 = batch['attention_mask1'].to(device)\n",
    "                attention_mask2 = batch['attention_mask2'].to(device)\n",
    "                target_mask1 = batch['target_mask1'].to(device)\n",
    "                target_mask2 = batch['target_mask2'].to(device)\n",
    "                labels = batch['label'].to(device)\n",
    "\n",
    "                outputs = model(input_ids1, attention_mask1, input_ids2, attention_mask2, target_mask1, target_mask2)\n",
    "                _, predicted = torch.max(outputs, 1)\n",
    "                total += labels.size(0)\n",
    "                correct += (predicted == labels).sum().item()\n",
    "\n",
    "        val_acc = correct / total\n",
    "        val_accs.append(val_acc)\n",
    "        print(f\"Validation accuracy for Config {i+1}: {val_acc:.4f}\")\n",
    "\n",
    "        # Track the best configuration based on validation accuracy\n",
    "        if val_acc > best_val_acc:\n",
    "            best_val_acc = val_acc\n",
    "            best_config = f\"Config {i+1} (r={lora_config.r}, lora_alpha={lora_config.lora_alpha})\"\n",
    "            best_model = model  # Save the best model\n",
    "\n",
    "        # Track the training loss for the best model\n",
    "        if best_model == model:\n",
    "            training_losses.append(avg_train_loss)\n",
    "\n",
    "# Final results\n",
    "print(f\"Best Validation Accuracy: {best_val_acc:.4f}\")\n",
    "print(f\"Best Configuration: {best_config}\")\n",
    "\n",
    "# Plot training loss for the best model\n",
    "plt.plot(training_losses)\n",
    "plt.title(f\"Training Loss for Best Model ({best_config})\")\n",
    "plt.xlabel(\"Epochs\")\n",
    "plt.ylabel(\"Training Loss\")\n",
    "plt.show()\n",
    "\n",
    "# Testing  the best model on the test set\n",
    "test_dataset = WiCDataset(dataset['test'], tokenizer, max_length)\n",
    "test_loader = DataLoader(test_dataset, batch_size=32)\n",
    "\n",
    "best_model.eval()\n",
    "correct, total = 0, 0\n",
    "with torch.no_grad():\n",
    "    for batch in test_loader:\n",
    "        input_ids1 = batch['input_ids1'].to(device)\n",
    "        input_ids2 = batch['input_ids2'].to(device)\n",
    "        attention_mask1 = batch['attention_mask1'].to(device)\n",
    "        attention_mask2 = batch['attention_mask2'].to(device)\n",
    "        target_mask1 = batch['target_mask1'].to(device)\n",
    "        target_mask2 = batch['target_mask2'].to(device)\n",
    "        labels = batch['label'].to(device)\n",
    "\n",
    "        outputs = best_model(input_ids1, attention_mask1, input_ids2, attention_mask2, target_mask1, target_mask2)\n",
    "        _, predicted = torch.max(outputs, 1)\n",
    "        total += labels.size(0)\n",
    "        correct += (predicted == labels).sum().item()\n",
    "\n",
    "test_acc = correct / total\n",
    "print(f\"Test Accuracy: {test_acc:.4f}\")  # Print test accuracy up to 4 decimals\n"
   ]
  },
  {
   "cell_type": "markdown",
   "metadata": {
    "id": "HWRra63i2oFS"
   },
   "source": [
    "# Submission"
   ]
  },
  {
   "cell_type": "markdown",
   "metadata": {
    "id": "BQ6iRsAn2rlE"
   },
   "source": [
    "Congratulations! You finished the assignment & you're ready to submit your work. Please follow the instructions:\n",
    "\n",
    "1. Check and review your answers. Make sure all of the cell outputs are what you want.\n",
    "2. Select File > Save.\n",
    "3. **Fill your information** & run the cell bellow.\n",
    "4. Run **Make Submission** cell, It may take several minutes and it may ask you for your credential.\n",
    "5. Run **Download Submission** cell to obtain your submission as a zip file.\n",
    "6. Grab the downloaded file (`dl_asg01__xx__xx.zip`) and hand it over."
   ]
  },
  {
   "cell_type": "markdown",
   "metadata": {
    "id": "lL9OYI1C1wRq"
   },
   "source": [
    "## Fill your information (Run the cell)"
   ]
  },
  {
   "cell_type": "code",
   "execution_count": null,
   "metadata": {
    "colab": {
     "base_uri": "https://localhost:8080/"
    },
    "id": "ra5wTxj62CWc",
    "outputId": "f53af10b-8bbe-428a-b121-2141efea1af6"
   },
   "outputs": [
    {
     "name": "stdout",
     "output_type": "stream",
     "text": [
      "your student id: C24082638\n",
      "your name: Rehaan Shaikh \n"
     ]
    }
   ],
   "source": [
    "#@title Enter your information & \"RUN the cell!!\" { run: \"auto\" }\n",
    "student_id = \"C24082638\" #@param {type:\"string\"}\n",
    "student_name = \"Rehaan Shaikh \" #@param {type:\"string\"}\n",
    "\n",
    "print(\"your student id:\", student_id)\n",
    "print(\"your name:\", student_name)\n",
    "\n",
    "\n",
    "from pathlib import Path\n",
    "\n",
    "ASSIGNMENT_PATH = Path('asg01')\n",
    "ASSIGNMENT_PATH.mkdir(parents=True, exist_ok=True)"
   ]
  },
  {
   "cell_type": "markdown",
   "metadata": {
    "id": "OFYJJJhh3kpj"
   },
   "source": [
    "## Make Submission (Run the cell)"
   ]
  },
  {
   "cell_type": "code",
   "execution_count": null,
   "metadata": {
    "colab": {
     "base_uri": "https://localhost:8080/"
    },
    "id": "cBQc5tBQ2sFJ",
    "outputId": "4ce6b1f6-5422-4ca5-e87a-44d019dbdd59"
   },
   "outputs": [
    {
     "name": "stdout",
     "output_type": "stream",
     "text": [
      "Extracting templates from packages: 100%\n"
     ]
    },
    {
     "name": "stderr",
     "output_type": "stream",
     "text": [
      "WARNING:root:pydrive is deprecated and no longer maintained. We recommend that you migrate your projects to pydrive2, the maintained fork of pydrive\n"
     ]
    },
    {
     "name": "stdout",
     "output_type": "stream",
     "text": [
      "[NbConvertApp] Converting notebook WiC_Finetuning.ipynb to script\n",
      "[NbConvertApp] Writing 11218 bytes to WiC_Finetuning.txt\n",
      "[NbConvertApp] Converting notebook WiC_Finetuning.ipynb to pdf\n",
      "[NbConvertApp] Writing 72553 bytes to notebook.tex\n",
      "[NbConvertApp] Building PDF\n",
      "[NbConvertApp] Running xelatex 3 times: ['xelatex', 'notebook.tex', '-quiet']\n",
      "[NbConvertApp] Running bibtex 1 time: ['bibtex', 'notebook']\n",
      "[NbConvertApp] WARNING | bibtex had problems, most likely because there were no citations\n",
      "[NbConvertApp] PDF successfully created\n",
      "[NbConvertApp] Writing 83950 bytes to WiC_Finetuning.pdf\n",
      "##########################################\n",
      "Done! Submisson created, Please download using the bellow cell!\n"
     ]
    }
   ],
   "source": [
    "#@title Make submission\n",
    "! pip install -U --quiet PyDrive > /dev/null\n",
    "! pip install -U --quiet jdatetime > /dev/null\n",
    "! apt-get install texlive-xetex texlive-fonts-recommended texlive-plain-generic pandoc > /dev/null\n",
    "\n",
    "import os\n",
    "import time\n",
    "import yaml\n",
    "import json\n",
    "import jdatetime\n",
    "\n",
    "from google.colab import files\n",
    "from IPython.display import Javascript\n",
    "from pydrive.auth import GoogleAuth\n",
    "from pydrive.drive import GoogleDrive\n",
    "from google.colab import auth\n",
    "from oauth2client.client import GoogleCredentials\n",
    "\n",
    "asg_name = 'WiC_Finetuning'\n",
    "script_save = '''\n",
    "require([\"base/js/namespace\"],function(Jupyter) {\n",
    "    Jupyter.notebook.save_checkpoint();\n",
    "});\n",
    "'''\n",
    "\n",
    "submission_file_name = 'dl_asg01__%s__%s.zip'%(student_id, student_name.lower().replace(' ',  '_'))\n",
    "\n",
    "sub_info = {\n",
    "    'student_id': student_id,\n",
    "    'student_name': student_name,\n",
    "    'dateime': str(jdatetime.date.today()),\n",
    "    'asg_name': asg_name\n",
    "}\n",
    "json.dump(sub_info, open('info.json', 'w'))\n",
    "\n",
    "Javascript(script_save)\n",
    "\n",
    "auth.authenticate_user()\n",
    "gauth = GoogleAuth()\n",
    "gauth.credentials = GoogleCredentials.get_application_default()\n",
    "drive = GoogleDrive(gauth)\n",
    "file_id = drive.ListFile({'q':\"title='%s.ipynb'\"%asg_name}).GetList()[0]['id']\n",
    "downloaded = drive.CreateFile({'id': file_id})\n",
    "downloaded.GetContentFile('%s.ipynb'%asg_name)\n",
    "\n",
    "! jupyter nbconvert --to script \"$asg_name\".ipynb > /dev/null\n",
    "! jupyter nbconvert --to pdf \"$asg_name\".ipynb > /dev/null\n",
    "\n",
    "! zip \"$submission_file_name\" \"$asg_name\".ipynb \"$asg_name\".html \"$asg_name\".txt info.json > /dev/null\n",
    "\n",
    "print(\"##########################################\")\n",
    "print(\"Done! Submisson created, Please download using the bellow cell!\")"
   ]
  },
  {
   "cell_type": "code",
   "execution_count": null,
   "metadata": {
    "colab": {
     "base_uri": "https://localhost:8080/",
     "height": 35
    },
    "id": "x3n3JS51xqUo",
    "outputId": "0c4df086-1e59-4d20-c091-543f3c6df1ba"
   },
   "outputs": [
    {
     "data": {
      "application/vnd.google.colaboratory.intrinsic+json": {
       "type": "string"
      },
      "text/plain": [
       "'1gakoqGs5WLPGglk95qmrVIWoNZfIOwvN'"
      ]
     },
     "execution_count": 11,
     "metadata": {},
     "output_type": "execute_result"
    }
   ],
   "source": [
    "drive.ListFile({'q':\"title='%s.ipynb'\"%asg_name}).GetList()[0]['id']"
   ]
  },
  {
   "cell_type": "code",
   "execution_count": null,
   "metadata": {
    "colab": {
     "base_uri": "https://localhost:8080/",
     "height": 17
    },
    "id": "RclPk2VM30Qa",
    "outputId": "76aacf06-2048-4349-d932-757fb9efbd64"
   },
   "outputs": [
    {
     "data": {
      "application/javascript": [
       "\n",
       "    async function download(id, filename, size) {\n",
       "      if (!google.colab.kernel.accessAllowed) {\n",
       "        return;\n",
       "      }\n",
       "      const div = document.createElement('div');\n",
       "      const label = document.createElement('label');\n",
       "      label.textContent = `Downloading \"${filename}\": `;\n",
       "      div.appendChild(label);\n",
       "      const progress = document.createElement('progress');\n",
       "      progress.max = size;\n",
       "      div.appendChild(progress);\n",
       "      document.body.appendChild(div);\n",
       "\n",
       "      const buffers = [];\n",
       "      let downloaded = 0;\n",
       "\n",
       "      const channel = await google.colab.kernel.comms.open(id);\n",
       "      // Send a message to notify the kernel that we're ready.\n",
       "      channel.send({})\n",
       "\n",
       "      for await (const message of channel.messages) {\n",
       "        // Send a message to notify the kernel that we're ready.\n",
       "        channel.send({})\n",
       "        if (message.buffers) {\n",
       "          for (const buffer of message.buffers) {\n",
       "            buffers.push(buffer);\n",
       "            downloaded += buffer.byteLength;\n",
       "            progress.value = downloaded;\n",
       "          }\n",
       "        }\n",
       "      }\n",
       "      const blob = new Blob(buffers, {type: 'application/binary'});\n",
       "      const a = document.createElement('a');\n",
       "      a.href = window.URL.createObjectURL(blob);\n",
       "      a.download = filename;\n",
       "      div.appendChild(a);\n",
       "      a.click();\n",
       "      div.remove();\n",
       "    }\n",
       "  "
      ],
      "text/plain": [
       "<IPython.core.display.Javascript object>"
      ]
     },
     "metadata": {},
     "output_type": "display_data"
    },
    {
     "data": {
      "application/javascript": [
       "download(\"download_7318661d-ac0c-4a03-ae67-58cb42d8bb6b\", \"dl_asg01__C24082638__rehaan_shaikh_.zip\", 12657)"
      ],
      "text/plain": [
       "<IPython.core.display.Javascript object>"
      ]
     },
     "metadata": {},
     "output_type": "display_data"
    }
   ],
   "source": [
    "files.download(submission_file_name)"
   ]
  },
  {
   "cell_type": "code",
   "execution_count": null,
   "metadata": {
    "id": "m_Qi0HS0xaqL"
   },
   "outputs": [],
   "source": []
  }
 ],
 "metadata": {
  "accelerator": "GPU",
  "colab": {
   "gpuType": "T4",
   "provenance": []
  },
  "kernelspec": {
   "display_name": "Python 3",
   "name": "python3"
  },
  "language_info": {
   "name": "python"
  }
 },
 "nbformat": 4,
 "nbformat_minor": 0
}
